{
 "cells": [
  {
   "cell_type": "markdown",
   "metadata": {
    "toc": true
   },
   "source": [
    "<h1>Table of Contents<span class=\"tocSkip\"></span></h1>\n",
    "<div class=\"toc\"><ul class=\"toc-item\"><li><span><a href=\"#Infos\" data-toc-modified-id=\"Infos-1\"><span class=\"toc-item-num\">1&nbsp;&nbsp;</span>Infos</a></span><ul class=\"toc-item\"><li><span><a href=\"#O-dataset\" data-toc-modified-id=\"O-dataset-1.1\"><span class=\"toc-item-num\">1.1&nbsp;&nbsp;</span>O dataset</a></span></li></ul></li><li><span><a href=\"#Problemas\" data-toc-modified-id=\"Problemas-2\"><span class=\"toc-item-num\">2&nbsp;&nbsp;</span>Problemas</a></span><ul class=\"toc-item\"><li><span><a href=\"#Inconsistencia-de-valor_compra\" data-toc-modified-id=\"Inconsistencia-de-valor_compra-2.1\"><span class=\"toc-item-num\">2.1&nbsp;&nbsp;</span>Inconsistencia de <code>valor_compra</code></a></span></li><li><span><a href=\"#Inconsistencia-de-dados-por-região\" data-toc-modified-id=\"Inconsistencia-de-dados-por-região-2.2\"><span class=\"toc-item-num\">2.2&nbsp;&nbsp;</span>Inconsistencia de dados por região</a></span></li></ul></li></ul></div>"
   ]
  },
  {
   "cell_type": "markdown",
   "metadata": {},
   "source": [
    "# Infos\n",
    "\n",
    "## O dataset"
   ]
  },
  {
   "cell_type": "markdown",
   "metadata": {},
   "source": [
    "| Features | Observação | Tipo | Valores | Nulls |\n",
    "| -------- | ---------- | ---- | ------- | ----- |\n",
    "| valor_compra | Valor que o posto comprou o combustivel | Float | - | 49.877% |\n",
    "| valor_venda | Valor que o posto vendeu o combustível | Float | - | 0 |\n",
    "| unidade | R$ por litro | str | **inutil** | **inutil** |\n",
    "| municipio | - | string | 531 | 0 |\n",
    "| regiao | - | string | 5 | 0 |\n",
    "| estado | - | string | 27 | 0 |\n",
    "| bandeira | Se é Shell, BR, Ale, etc | string | 137 | 0 |\n",
    "| produto | Qual é o combustivel (DIESEL ou DIESEL S10) | string | 2 | 0 |\n",
    "| razao_social_revenda | Nome social do posto | string | **inutil** | **inutil** |\n",
    "| data_coleta | Data de coleta do dado | string (passe pra datetime) | 2004 a 2018 | 0 |"
   ]
  },
  {
   "cell_type": "markdown",
   "metadata": {},
   "source": [
    "# Problemas\n",
    "\n",
    "## Inconsistencia de `valor_compra`\n",
    "\n",
    "- Percentual de nulls por coluna\n",
    "\n",
    "| Feature | % de nulls |\n",
    "| --- | --- |\n",
    "|valor_compra  |       49.877 %|\n",
    "|valor_venda  |         0.0 %|\n",
    "|unidade        |    0.0 %|\n",
    "|municipio       |     0.0 %|\n",
    "|regiao           |   0.0 %|\n",
    "|estado            |    0.0 %|\n",
    "|bandeira           |   0.0 %|\n",
    "|produto             |  0.0 %|\n",
    "|razao_social_revenda | 0.0 %|\n",
    "|data_coleta          | 0.0 %|\n",
    "|ano_coleta           | 0.0 %|\n",
    "|mes_coleta           | 0.0 %|\n",
    "|dia_coleta           | 0.0 %|\n",
    "\n",
    "<img src=\"graphs/valor_compra_por_ano.png\">\n",
    "\n",
    "Portanto, temos que preencher os valores nulls de `valor_compra` para fazer as análises. Existem algumas abordagens:\n",
    "    - fillna com a media geral\n",
    "    - fillna com a media do estado/regiao/municipio\n",
    "    - fillna por bandeira\n",
    "    - analisar somente os dados validos (porem haverá uma perda de 50% do meu dataset)\n",
    "    "
   ]
  },
  {
   "cell_type": "markdown",
   "metadata": {},
   "source": [
    "## Inconsistencia de dados por região\n",
    "\n",
    "O violinplot abaixo mostra que nas regiões CO, N e NE os dados estão bem distribuidos. Contudo, na região S somente existem dados a partir de 2014, e na região SE, somente a partir de 2017.\n",
    "<img src='./graphs/regiao_por_ano_violinplot.png' >\n",
    "Portanto, existe um déficit de dados nas regiões S e SE. O gráfico abaixo detalha mais o comportamento de cada região. [Clique aqui para abrir em uma nova aba](./graphs/regiao_por_ano_catplot.png)\n",
    "<img src='./graphs/regiao_por_ano_catplot.png' >"
   ]
  },
  {
   "cell_type": "code",
   "execution_count": null,
   "metadata": {},
   "outputs": [],
   "source": []
  }
 ],
 "metadata": {
  "kernelspec": {
   "display_name": "Python 3",
   "language": "python",
   "name": "python3"
  },
  "language_info": {
   "codemirror_mode": {
    "name": "ipython",
    "version": 3
   },
   "file_extension": ".py",
   "mimetype": "text/x-python",
   "name": "python",
   "nbconvert_exporter": "python",
   "pygments_lexer": "ipython3",
   "version": "3.6.5"
  },
  "toc": {
   "base_numbering": 1,
   "nav_menu": {},
   "number_sections": true,
   "sideBar": true,
   "skip_h1_title": false,
   "title_cell": "Table of Contents",
   "title_sidebar": "Contents",
   "toc_cell": true,
   "toc_position": {},
   "toc_section_display": true,
   "toc_window_display": false
  }
 },
 "nbformat": 4,
 "nbformat_minor": 2
}
