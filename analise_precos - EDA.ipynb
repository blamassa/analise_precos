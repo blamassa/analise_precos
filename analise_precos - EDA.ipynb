{
 "cells": [
  {
   "cell_type": "markdown",
   "metadata": {
    "toc": true
   },
   "source": [
    "<h1>Table of Contents<span class=\"tocSkip\"></span></h1>\n",
    "<div class=\"toc\"><ul class=\"toc-item\"><li><span><a href=\"#Basic-Infos\" data-toc-modified-id=\"Basic-Infos-1\"><span class=\"toc-item-num\">1&nbsp;&nbsp;</span>Basic Infos</a></span></li><li><span><a href=\"#Preprocessing\" data-toc-modified-id=\"Preprocessing-2\"><span class=\"toc-item-num\">2&nbsp;&nbsp;</span>Preprocessing</a></span></li><li><span><a href=\"#Visualizations\" data-toc-modified-id=\"Visualizations-3\"><span class=\"toc-item-num\">3&nbsp;&nbsp;</span>Visualizations</a></span></li></ul></div>"
   ]
  },
  {
   "cell_type": "code",
   "execution_count": 1,
   "metadata": {},
   "outputs": [
    {
     "name": "stderr",
     "output_type": "stream",
     "text": [
      "/home/breno/.virtualenvs/dtsci/lib/python3.6/importlib/_bootstrap.py:219: RuntimeWarning: numpy.dtype size changed, may indicate binary incompatibility. Expected 96, got 88\n",
      "  return f(*args, **kwds)\n",
      "/home/breno/.virtualenvs/dtsci/lib/python3.6/importlib/_bootstrap.py:219: RuntimeWarning: numpy.dtype size changed, may indicate binary incompatibility. Expected 96, got 88\n",
      "  return f(*args, **kwds)\n"
     ]
    }
   ],
   "source": [
    "import pandas as pd\n",
    "import numpy as np\n",
    "import matplotlib.pyplot as plt\n",
    "import seaborn as sns"
   ]
  },
  {
   "cell_type": "code",
   "execution_count": 2,
   "metadata": {},
   "outputs": [],
   "source": [
    "# Reading data\n",
    "df = pd.read_csv('serie_precos_completa.csv', sep=';', header=0,\n",
    "                encoding='ISO-8859-1')"
   ]
  },
  {
   "cell_type": "markdown",
   "metadata": {},
   "source": [
    "## Basic Infos"
   ]
  },
  {
   "cell_type": "code",
   "execution_count": 3,
   "metadata": {},
   "outputs": [
    {
     "name": "stdout",
     "output_type": "stream",
     "text": [
      "<class 'pandas.core.frame.DataFrame'>\n",
      "RangeIndex: 1500000 entries, 0 to 1499999\n",
      "Data columns (total 10 columns):\n",
      "valor_compra            751845 non-null float64\n",
      "valor_venda             1500000 non-null float64\n",
      "unidade                 1500000 non-null object\n",
      "municipio               1500000 non-null object\n",
      "regiao                  1500000 non-null object\n",
      "estado                  1500000 non-null object\n",
      "bandeira                1500000 non-null object\n",
      "produto                 1500000 non-null object\n",
      "razao_social_revenda    1500000 non-null object\n",
      "data_coleta             1500000 non-null object\n",
      "dtypes: float64(2), object(8)\n",
      "memory usage: 114.4+ MB\n"
     ]
    }
   ],
   "source": [
    "df.info()"
   ]
  },
  {
   "cell_type": "code",
   "execution_count": 4,
   "metadata": {},
   "outputs": [
    {
     "data": {
      "text/plain": [
       "Index(['valor_compra', 'valor_venda', 'unidade', 'municipio', 'regiao',\n",
       "       'estado', 'bandeira', 'produto', 'razao_social_revenda', 'data_coleta'],\n",
       "      dtype='object')"
      ]
     },
     "execution_count": 4,
     "metadata": {},
     "output_type": "execute_result"
    }
   ],
   "source": [
    "df.columns"
   ]
  },
  {
   "cell_type": "code",
   "execution_count": 5,
   "metadata": {},
   "outputs": [
    {
     "data": {
      "text/html": [
       "<div>\n",
       "<style scoped>\n",
       "    .dataframe tbody tr th:only-of-type {\n",
       "        vertical-align: middle;\n",
       "    }\n",
       "\n",
       "    .dataframe tbody tr th {\n",
       "        vertical-align: top;\n",
       "    }\n",
       "\n",
       "    .dataframe thead th {\n",
       "        text-align: right;\n",
       "    }\n",
       "</style>\n",
       "<table border=\"1\" class=\"dataframe\">\n",
       "  <thead>\n",
       "    <tr style=\"text-align: right;\">\n",
       "      <th></th>\n",
       "      <th>valor_compra</th>\n",
       "      <th>valor_venda</th>\n",
       "      <th>unidade</th>\n",
       "      <th>municipio</th>\n",
       "      <th>regiao</th>\n",
       "      <th>estado</th>\n",
       "      <th>bandeira</th>\n",
       "      <th>produto</th>\n",
       "      <th>razao_social_revenda</th>\n",
       "      <th>data_coleta</th>\n",
       "    </tr>\n",
       "  </thead>\n",
       "  <tbody>\n",
       "    <tr>\n",
       "      <th>0</th>\n",
       "      <td>NaN</td>\n",
       "      <td>1.46</td>\n",
       "      <td>R$ / litro</td>\n",
       "      <td>BRASILIA</td>\n",
       "      <td>CO</td>\n",
       "      <td>DF</td>\n",
       "      <td>ALESAT</td>\n",
       "      <td>DIESEL</td>\n",
       "      <td>MINA COMBUSTÍVEIS LTDA</td>\n",
       "      <td>10/05/2004</td>\n",
       "    </tr>\n",
       "    <tr>\n",
       "      <th>1</th>\n",
       "      <td>1.2490</td>\n",
       "      <td>1.46</td>\n",
       "      <td>R$ / litro</td>\n",
       "      <td>BRASILIA</td>\n",
       "      <td>CO</td>\n",
       "      <td>DF</td>\n",
       "      <td>BRANCA</td>\n",
       "      <td>DIESEL</td>\n",
       "      <td>AMORIM COMERCIO DE DERIVADOS DE PETROLEO LTDA</td>\n",
       "      <td>10/05/2004</td>\n",
       "    </tr>\n",
       "    <tr>\n",
       "      <th>2</th>\n",
       "      <td>1.2400</td>\n",
       "      <td>1.46</td>\n",
       "      <td>R$ / litro</td>\n",
       "      <td>BRASILIA</td>\n",
       "      <td>CO</td>\n",
       "      <td>DF</td>\n",
       "      <td>BRANCA</td>\n",
       "      <td>DIESEL</td>\n",
       "      <td>AMORIM E AMORIM EMPREENDIMENTOS COMERCIAIS</td>\n",
       "      <td>10/05/2004</td>\n",
       "    </tr>\n",
       "    <tr>\n",
       "      <th>3</th>\n",
       "      <td>1.2526</td>\n",
       "      <td>1.46</td>\n",
       "      <td>R$ / litro</td>\n",
       "      <td>BRASILIA</td>\n",
       "      <td>CO</td>\n",
       "      <td>DF</td>\n",
       "      <td>BRANCA</td>\n",
       "      <td>DIESEL</td>\n",
       "      <td>AUTO POSTO CEILANDIA NORTE LTDA</td>\n",
       "      <td>10/05/2004</td>\n",
       "    </tr>\n",
       "    <tr>\n",
       "      <th>4</th>\n",
       "      <td>1.2526</td>\n",
       "      <td>1.46</td>\n",
       "      <td>R$ / litro</td>\n",
       "      <td>BRASILIA</td>\n",
       "      <td>CO</td>\n",
       "      <td>DF</td>\n",
       "      <td>BRANCA</td>\n",
       "      <td>DIESEL</td>\n",
       "      <td>AUTO POSTO MILLENNIUM 2000 LTDA</td>\n",
       "      <td>10/05/2004</td>\n",
       "    </tr>\n",
       "  </tbody>\n",
       "</table>\n",
       "</div>"
      ],
      "text/plain": [
       "   valor_compra  valor_venda     unidade municipio regiao estado bandeira  \\\n",
       "0           NaN         1.46  R$ / litro  BRASILIA     CO     DF   ALESAT   \n",
       "1        1.2490         1.46  R$ / litro  BRASILIA     CO     DF   BRANCA   \n",
       "2        1.2400         1.46  R$ / litro  BRASILIA     CO     DF   BRANCA   \n",
       "3        1.2526         1.46  R$ / litro  BRASILIA     CO     DF   BRANCA   \n",
       "4        1.2526         1.46  R$ / litro  BRASILIA     CO     DF   BRANCA   \n",
       "\n",
       "  produto                           razao_social_revenda data_coleta  \n",
       "0  DIESEL                         MINA COMBUSTÍVEIS LTDA  10/05/2004  \n",
       "1  DIESEL  AMORIM COMERCIO DE DERIVADOS DE PETROLEO LTDA  10/05/2004  \n",
       "2  DIESEL     AMORIM E AMORIM EMPREENDIMENTOS COMERCIAIS  10/05/2004  \n",
       "3  DIESEL                AUTO POSTO CEILANDIA NORTE LTDA  10/05/2004  \n",
       "4  DIESEL                AUTO POSTO MILLENNIUM 2000 LTDA  10/05/2004  "
      ]
     },
     "execution_count": 5,
     "metadata": {},
     "output_type": "execute_result"
    }
   ],
   "source": [
    "df.head()"
   ]
  },
  {
   "cell_type": "markdown",
   "metadata": {},
   "source": [
    "## Preprocessing"
   ]
  },
  {
   "cell_type": "markdown",
   "metadata": {},
   "source": [
    "- Taking care of date"
   ]
  },
  {
   "cell_type": "code",
   "execution_count": 3,
   "metadata": {},
   "outputs": [
    {
     "name": "stdout",
     "output_type": "stream",
     "text": [
      "CPU times: user 3min 16s, sys: 68.4 ms, total: 3min 16s\n",
      "Wall time: 3min 16s\n"
     ]
    }
   ],
   "source": [
    "%%time\n",
    "# This takes aprox. 3min30s\n",
    "\n",
    "df['data_coleta'] = pd.to_datetime(df['data_coleta'])\n",
    "df['ano_coleta'] = df['data_coleta'].dt.year\n",
    "df['mes_coleta'] = df['data_coleta'].dt.month\n",
    "df['dia_coleta'] = df['data_coleta'].dt.day"
   ]
  },
  {
   "cell_type": "markdown",
   "metadata": {},
   "source": [
    "## Visualizations"
   ]
  },
  {
   "cell_type": "code",
   "execution_count": 4,
   "metadata": {},
   "outputs": [
    {
     "data": {
      "image/png": "[encoded data removed]",
      "text/plain": [
       "<Figure size 720x288 with 1 Axes>"
      ]
     },
     "metadata": {},
     "output_type": "display_data"
    }
   ],
   "source": [
    "# Inconsistencia do valor_compra\n",
    "fig, ax = plt.subplots(figsize  = (10,4))\n",
    "\n",
    "y_val = df.groupby('ano_coleta').count()['valor_compra']\n",
    "y_outros = df.groupby('ano_coleta').count()['unidade']\n",
    "x = df.groupby('ano_coleta').count().index\n",
    "ax.plot(x, y_val, label='valor_compra')\n",
    "ax.plot(x, y_outros, label='Outras features')\n",
    "\n",
    "ax.set_title('Entradas de valor_compra por ano de coleta')\n",
    "ax.set_ylabel('Entradas')\n",
    "ax.set_xlabel('Ano de coleta')\n",
    "\n",
    "plt.legend()\n",
    "plt.savefig('./graphs/valor_compra_por_ano.png', dpi=200)\n",
    "\n",
    "plt.show()"
   ]
  },
  {
   "cell_type": "code",
   "execution_count": 23,
   "metadata": {},
   "outputs": [
    {
     "data": {
      "text/html": [
       "<div>\n",
       "<style scoped>\n",
       "    .dataframe tbody tr th:only-of-type {\n",
       "        vertical-align: middle;\n",
       "    }\n",
       "\n",
       "    .dataframe tbody tr th {\n",
       "        vertical-align: top;\n",
       "    }\n",
       "\n",
       "    .dataframe thead th {\n",
       "        text-align: right;\n",
       "    }\n",
       "</style>\n",
       "<table border=\"1\" class=\"dataframe\">\n",
       "  <thead>\n",
       "    <tr style=\"text-align: right;\">\n",
       "      <th></th>\n",
       "      <th>unidade</th>\n",
       "      <th>valor_venda</th>\n",
       "    </tr>\n",
       "    <tr>\n",
       "      <th>ano_coleta</th>\n",
       "      <th></th>\n",
       "      <th></th>\n",
       "    </tr>\n",
       "  </thead>\n",
       "  <tbody>\n",
       "    <tr>\n",
       "      <th>2004</th>\n",
       "      <td>100000</td>\n",
       "      <td>100000</td>\n",
       "    </tr>\n",
       "    <tr>\n",
       "      <th>2005</th>\n",
       "      <td>100000</td>\n",
       "      <td>100000</td>\n",
       "    </tr>\n",
       "    <tr>\n",
       "      <th>2006</th>\n",
       "      <td>100000</td>\n",
       "      <td>100000</td>\n",
       "    </tr>\n",
       "    <tr>\n",
       "      <th>2007</th>\n",
       "      <td>100666</td>\n",
       "      <td>100666</td>\n",
       "    </tr>\n",
       "    <tr>\n",
       "      <th>2008</th>\n",
       "      <td>101500</td>\n",
       "      <td>101500</td>\n",
       "    </tr>\n",
       "    <tr>\n",
       "      <th>2009</th>\n",
       "      <td>97834</td>\n",
       "      <td>97834</td>\n",
       "    </tr>\n",
       "    <tr>\n",
       "      <th>2010</th>\n",
       "      <td>100000</td>\n",
       "      <td>100000</td>\n",
       "    </tr>\n",
       "    <tr>\n",
       "      <th>2011</th>\n",
       "      <td>100000</td>\n",
       "      <td>100000</td>\n",
       "    </tr>\n",
       "    <tr>\n",
       "      <th>2012</th>\n",
       "      <td>100418</td>\n",
       "      <td>100418</td>\n",
       "    </tr>\n",
       "    <tr>\n",
       "      <th>2013</th>\n",
       "      <td>98802</td>\n",
       "      <td>98802</td>\n",
       "    </tr>\n",
       "    <tr>\n",
       "      <th>2014</th>\n",
       "      <td>100691</td>\n",
       "      <td>100691</td>\n",
       "    </tr>\n",
       "    <tr>\n",
       "      <th>2015</th>\n",
       "      <td>100089</td>\n",
       "      <td>100089</td>\n",
       "    </tr>\n",
       "    <tr>\n",
       "      <th>2016</th>\n",
       "      <td>100000</td>\n",
       "      <td>100000</td>\n",
       "    </tr>\n",
       "    <tr>\n",
       "      <th>2017</th>\n",
       "      <td>100000</td>\n",
       "      <td>100000</td>\n",
       "    </tr>\n",
       "    <tr>\n",
       "      <th>2018</th>\n",
       "      <td>100000</td>\n",
       "      <td>100000</td>\n",
       "    </tr>\n",
       "  </tbody>\n",
       "</table>\n",
       "</div>"
      ],
      "text/plain": [
       "            unidade  valor_venda\n",
       "ano_coleta                      \n",
       "2004         100000       100000\n",
       "2005         100000       100000\n",
       "2006         100000       100000\n",
       "2007         100666       100666\n",
       "2008         101500       101500\n",
       "2009          97834        97834\n",
       "2010         100000       100000\n",
       "2011         100000       100000\n",
       "2012         100418       100418\n",
       "2013          98802        98802\n",
       "2014         100691       100691\n",
       "2015         100089       100089\n",
       "2016         100000       100000\n",
       "2017         100000       100000\n",
       "2018         100000       100000"
      ]
     },
     "execution_count": 23,
     "metadata": {},
     "output_type": "execute_result"
    }
   ],
   "source": [
    "# Distribuição de entradas por regiao\n",
    "#y_outros = \n",
    "df.groupby('ano_coleta').count()[['unidade','valor_venda']]\n",
    "#x = df.groupby('ano_coleta').count().index"
   ]
  },
  {
   "cell_type": "code",
   "execution_count": 46,
   "metadata": {},
   "outputs": [
    {
     "data": {
      "image/png": "[encoded data removed]",
      "text/plain": [
       "<Figure size 1800x360 with 5 Axes>"
      ]
     },
     "metadata": {},
     "output_type": "display_data"
    }
   ],
   "source": [
    "g = sns.catplot(x= 'ano_coleta', hue='regiao', col='regiao', data=df, kind='count')\n",
    "g.set_xticklabels(rotation=-45)\n",
    "plt.subplots_adjust(top=0.8)\n",
    "g.fig.suptitle('Entradas de cada regiao de acordo com o ano de coleta')\n",
    "plt.savefig('./graphs/regiao_por_ano_catplot.png')#, dpi=200)\n",
    "plt.show()"
   ]
  },
  {
   "cell_type": "code",
   "execution_count": 39,
   "metadata": {},
   "outputs": [
    {
     "name": "stderr",
     "output_type": "stream",
     "text": [
      "/home/breno/.virtualenvs/dtsci/lib/python3.6/site-packages/scipy/stats/stats.py:1713: FutureWarning: Using a non-tuple sequence for multidimensional indexing is deprecated; use `arr[tuple(seq)]` instead of `arr[seq]`. In the future this will be interpreted as an array index, `arr[np.array(seq)]`, which will result either in an error or a different result.\n",
      "  return np.add.reduce(sorted[indexer] * weights, axis=axis) / sumval\n"
     ]
    },
    {
     "data": {
      "image/png": "[encoded data removed]",
      "text/plain": [
       "<Figure size 1080x576 with 1 Axes>"
      ]
     },
     "metadata": {},
     "output_type": "display_data"
    }
   ],
   "source": [
    "# Violin plot with Pokemon color palette\n",
    "plt.figure(figsize=(15,8))\n",
    "sns.violinplot(y='ano_coleta', x='regiao', data=df)\n",
    "plt.yticks(np.arange(2004,2019,1))\n",
    "plt.title('Entradas de cada regiao de acordo com o ano de coleta')\n",
    "plt.savefig('./graphs/regiao_por_ano_violinplot.png')#, dpi=200)\n",
    "plt.show()"
   ]
  },
  {
   "cell_type": "code",
   "execution_count": null,
   "metadata": {},
   "outputs": [],
   "source": []
  }
 ],
 "metadata": {
  "kernelspec": {
   "display_name": "Python 3",
   "language": "python",
   "name": "python3"
  },
  "language_info": {
   "codemirror_mode": {
    "name": "ipython",
    "version": 3
   },
   "file_extension": ".py",
   "mimetype": "text/x-python",
   "name": "python",
   "nbconvert_exporter": "python",
   "pygments_lexer": "ipython3",
   "version": "3.6.5"
  },
  "toc": {
   "base_numbering": 1,
   "nav_menu": {},
   "number_sections": true,
   "sideBar": true,
   "skip_h1_title": true,
   "title_cell": "Table of Contents",
   "title_sidebar": "Contents",
   "toc_cell": true,
   "toc_position": {},
   "toc_section_display": true,
   "toc_window_display": false
  }
 },
 "nbformat": 4,
 "nbformat_minor": 2
}
